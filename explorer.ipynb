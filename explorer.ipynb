{
 "cells": [
  {
   "cell_type": "code",
   "execution_count": 23,
   "metadata": {},
   "outputs": [],
   "source": [
    "from pathlib import Path\n",
    "import os\n",
    "import requests\n",
    "import pandas as pd"
   ]
  },
  {
   "cell_type": "code",
   "execution_count": 2,
   "metadata": {},
   "outputs": [
    {
     "name": "stdout",
     "output_type": "stream",
     "text": [
      "Rio Grande\n",
      "{'coord': {'lon': -52.0986, 'lat': -32.035}, 'weather': [{'id': 801, 'main': 'Clouds', 'description': 'few clouds', 'icon': '02d'}], 'base': 'stations', 'main': {'temp': 27.06, 'feels_like': 28.23, 'temp_min': 27.06, 'temp_max': 27.06, 'pressure': 1016, 'humidity': 61, 'sea_level': 1016, 'grnd_level': 1015}, 'visibility': 10000, 'wind': {'speed': 4.58, 'deg': 134, 'gust': 4.09}, 'clouds': {'all': 15}, 'dt': 1676994502, 'sys': {'type': 1, 'id': 8408, 'country': 'BR', 'sunrise': 1676970675, 'sunset': 1677017590}, 'timezone': -10800, 'id': 3451138, 'name': 'Rio Grande', 'cod': 200}\n"
     ]
    }
   ],
   "source": [
    "\n",
    "\n",
    "cidade = \"Rio Grande\"\n",
    "\n",
    "url = f\"http://api.openweathermap.org/data/2.5/weather?q={cidade}&appid={chave_api}&units=metric\"\n",
    "\n",
    "response = requests.get(url)\n",
    "dados_clima = response.json()\n",
    "\n",
    "print(cidade)\n",
    "print(dados_clima)\n"
   ]
  },
  {
   "cell_type": "code",
   "execution_count": 3,
   "metadata": {},
   "outputs": [
    {
     "ename": "KeyError",
     "evalue": "0",
     "output_type": "error",
     "traceback": [
      "\u001b[1;31m---------------------------------------------------------------------------\u001b[0m",
      "\u001b[1;31mKeyError\u001b[0m                                  Traceback (most recent call last)",
      "Cell \u001b[1;32mIn[3], line 10\u001b[0m\n\u001b[0;32m      7\u001b[0m response \u001b[39m=\u001b[39m requests\u001b[39m.\u001b[39mget(url)\n\u001b[0;32m      8\u001b[0m dados_localizacao \u001b[39m=\u001b[39m response\u001b[39m.\u001b[39mjson()\n\u001b[1;32m---> 10\u001b[0m lat \u001b[39m=\u001b[39m dados_localizacao[\u001b[39m0\u001b[39;49m][\u001b[39m'\u001b[39m\u001b[39mlat\u001b[39m\u001b[39m'\u001b[39m]\n\u001b[0;32m     11\u001b[0m lon \u001b[39m=\u001b[39m dados_localizacao[\u001b[39m0\u001b[39m][\u001b[39m'\u001b[39m\u001b[39mlon\u001b[39m\u001b[39m'\u001b[39m]\n\u001b[0;32m     13\u001b[0m \u001b[39mprint\u001b[39m(\u001b[39mf\u001b[39m\u001b[39m\"\u001b[39m\u001b[39mA latitude de \u001b[39m\u001b[39m{\u001b[39;00mcidade\u001b[39m}\u001b[39;00m\u001b[39m, \u001b[39m\u001b[39m{\u001b[39;00mpais\u001b[39m}\u001b[39;00m\u001b[39m é \u001b[39m\u001b[39m{\u001b[39;00mlat\u001b[39m}\u001b[39;00m\u001b[39m e a longitude é \u001b[39m\u001b[39m{\u001b[39;00mlon\u001b[39m}\u001b[39;00m\u001b[39m.\u001b[39m\u001b[39m\"\u001b[39m)\n",
      "\u001b[1;31mKeyError\u001b[0m: 0"
     ]
    }
   ],
   "source": [
    "cidade = \"Rio Grande\"\n",
    "estado = \"Rio Grande do Sul\"\n",
    "pais = \"Brasil\"\n",
    "\n",
    "url = f\"http://api.openweathermap.org/geo/1.0/direct?q={cidade},{estado},{pais}&limit=1&appid={chave_api}\"\n",
    "\n",
    "response = requests.get(url)\n",
    "dados_localizacao = response.json()\n",
    "\n",
    "lat = dados_localizacao[0]['lat']\n",
    "lon = dados_localizacao[0]['lon']\n",
    "\n",
    "print(f\"A latitude de {cidade}, {pais} é {lat} e a longitude é {lon}.\")"
   ]
  },
  {
   "cell_type": "code",
   "execution_count": 5,
   "metadata": {},
   "outputs": [
    {
     "data": {
      "text/plain": [
       "[-32.0334252, -52.0991297]"
      ]
     },
     "execution_count": 5,
     "metadata": {},
     "output_type": "execute_result"
    }
   ],
   "source": [
    "def get_uf(cidade: str, estado: str, pais: str) -> list:\n",
    "    ''' retorna coordenadas baseadas em cidade, estado e pais de acordo com a api OPWM '''\n",
    "    url = f\"http://api.openweathermap.org/geo/1.0/direct?q={cidade},{estado},{pais}&limit=1&appid={chave_api}\"\n",
    "\n",
    "    response = requests.get(url)\n",
    "    dados_localizacao = response.json()\n",
    "\n",
    "    lat = dados_localizacao[0]['lat']\n",
    "    lon = dados_localizacao[0]['lon']\n",
    "    coord = [lat,lon]\n",
    "    return coord\n",
    "\n",
    "get_uf(\"Rio Grande\",\"Rio Grande do Sul\",\"Brasil\")"
   ]
  },
  {
   "cell_type": "code",
   "execution_count": 62,
   "metadata": {},
   "outputs": [
    {
     "name": "stdout",
     "output_type": "stream",
     "text": [
      "{'city_id': '3448439', 'city_name': 'São Paulo', 'country_code': 'BR', 'data': [{'clouds': 80, 'datetime': '2022-01-01', 'dewpt': 18.2, 'dhi': 56.3, 'dni': 454.6, 'ghi': 375.1, 'max_dhi': 132.4, 'max_dni': 1004.1, 'max_ghi': 1126.4, 'max_temp': 25, 'max_temp_ts': 1641045600, 'max_uv': 7.8, 'max_wind_dir': 228, 'max_wind_spd': 5.1, 'max_wind_spd_ts': 1641052800, 'min_temp': 18, 'min_temp_ts': 1641027600, 'precip': 7.4, 'precip_gpm': 7.4, 'pres': 926.3, 'revision_status': 'final', 'rh': 84.8, 'slp': 1010.4, 'snow': 0, 'snow_depth': None, 'solar_rad': 216.1, 't_dhi': 1350.6, 't_dni': 10909.2, 't_ghi': 9003.4, 't_solar_rad': 5185.5, 'temp': 21.4, 'ts': 1641006000, 'wind_dir': 228, 'wind_gust_spd': 5.8, 'wind_spd': 1.8}], 'lat': -23.5475, 'lon': -46.63611, 'sources': ['837810-99999', '837790-99999', 'BR00E3-0360', 'BR00E3-2460', 'BR00E3-0960', 'BR00E3-0900', 'BR00E3-0070', 'BR00E3-0030', 'BR00E3-0520', 'BR00E3-1460', 'BR00E3-1450', 'BR00E3-0100', 'BR00E3-0220', 'BR00E3-0350', 'BR00E3-0850', 'BR00E3-0330', 'BR002346397', 'BR00E3-2640', 'BR00E3-0290', 'BR00E3-0060', 'imerg', 'merra2', 'era5', 'modis'], 'state_code': '27', 'station_id': '837790-99999', 'timezone': 'America/Sao_Paulo'}\n",
      "2022-01-01 25 18\n"
     ]
    }
   ],
   "source": [
    "# Substitua API_KEY pelo sua chave de API do Weatherbit\n",
    "url = f\"https://api.weatherbit.io/v2.0/history/daily?city=Sao%20Paulo,BR&start_date=2022-01-01&end_date=2022-01-02&key={chave_api}\"\n",
    "\n",
    "# Faz a solicitação à API do Weatherbit\n",
    "response = requests.get(url)\n",
    "\n",
    "# Imprime a resposta\n",
    "print(response.json())\n",
    "data = response.json()\n",
    "for dia in data[\"data\"]:\n",
    "    print(dia['datetime'], dia[\"max_temp\"], dia['min_temp'])"
   ]
  },
  {
   "cell_type": "code",
   "execution_count": 5,
   "metadata": {},
   "outputs": [
    {
     "name": "stdout",
     "output_type": "stream",
     "text": [
      "<Response [429]>\n"
     ]
    },
    {
     "ename": "JSONDecodeError",
     "evalue": "Expecting value: line 1 column 1 (char 0)",
     "output_type": "error",
     "traceback": [
      "\u001b[1;31m---------------------------------------------------------------------------\u001b[0m",
      "\u001b[1;31mJSONDecodeError\u001b[0m                           Traceback (most recent call last)",
      "File \u001b[1;32mc:\\Users\\Guilherme\\AppData\\Local\\Programs\\Python\\Python311\\Lib\\site-packages\\requests\\models.py:971\u001b[0m, in \u001b[0;36mResponse.json\u001b[1;34m(self, **kwargs)\u001b[0m\n\u001b[0;32m    970\u001b[0m \u001b[39mtry\u001b[39;00m:\n\u001b[1;32m--> 971\u001b[0m     \u001b[39mreturn\u001b[39;00m complexjson\u001b[39m.\u001b[39;49mloads(\u001b[39mself\u001b[39;49m\u001b[39m.\u001b[39;49mtext, \u001b[39m*\u001b[39;49m\u001b[39m*\u001b[39;49mkwargs)\n\u001b[0;32m    972\u001b[0m \u001b[39mexcept\u001b[39;00m JSONDecodeError \u001b[39mas\u001b[39;00m e:\n\u001b[0;32m    973\u001b[0m     \u001b[39m# Catch JSON-related errors and raise as requests.JSONDecodeError\u001b[39;00m\n\u001b[0;32m    974\u001b[0m     \u001b[39m# This aliases json.JSONDecodeError and simplejson.JSONDecodeError\u001b[39;00m\n",
      "File \u001b[1;32mc:\\Users\\Guilherme\\AppData\\Local\\Programs\\Python\\Python311\\Lib\\json\\__init__.py:346\u001b[0m, in \u001b[0;36mloads\u001b[1;34m(s, cls, object_hook, parse_float, parse_int, parse_constant, object_pairs_hook, **kw)\u001b[0m\n\u001b[0;32m    343\u001b[0m \u001b[39mif\u001b[39;00m (\u001b[39mcls\u001b[39m \u001b[39mis\u001b[39;00m \u001b[39mNone\u001b[39;00m \u001b[39mand\u001b[39;00m object_hook \u001b[39mis\u001b[39;00m \u001b[39mNone\u001b[39;00m \u001b[39mand\u001b[39;00m\n\u001b[0;32m    344\u001b[0m         parse_int \u001b[39mis\u001b[39;00m \u001b[39mNone\u001b[39;00m \u001b[39mand\u001b[39;00m parse_float \u001b[39mis\u001b[39;00m \u001b[39mNone\u001b[39;00m \u001b[39mand\u001b[39;00m\n\u001b[0;32m    345\u001b[0m         parse_constant \u001b[39mis\u001b[39;00m \u001b[39mNone\u001b[39;00m \u001b[39mand\u001b[39;00m object_pairs_hook \u001b[39mis\u001b[39;00m \u001b[39mNone\u001b[39;00m \u001b[39mand\u001b[39;00m \u001b[39mnot\u001b[39;00m kw):\n\u001b[1;32m--> 346\u001b[0m     \u001b[39mreturn\u001b[39;00m _default_decoder\u001b[39m.\u001b[39;49mdecode(s)\n\u001b[0;32m    347\u001b[0m \u001b[39mif\u001b[39;00m \u001b[39mcls\u001b[39m \u001b[39mis\u001b[39;00m \u001b[39mNone\u001b[39;00m:\n",
      "File \u001b[1;32mc:\\Users\\Guilherme\\AppData\\Local\\Programs\\Python\\Python311\\Lib\\json\\decoder.py:337\u001b[0m, in \u001b[0;36mJSONDecoder.decode\u001b[1;34m(self, s, _w)\u001b[0m\n\u001b[0;32m    333\u001b[0m \u001b[39m\u001b[39m\u001b[39m\"\"\"Return the Python representation of ``s`` (a ``str`` instance\u001b[39;00m\n\u001b[0;32m    334\u001b[0m \u001b[39mcontaining a JSON document).\u001b[39;00m\n\u001b[0;32m    335\u001b[0m \n\u001b[0;32m    336\u001b[0m \u001b[39m\"\"\"\u001b[39;00m\n\u001b[1;32m--> 337\u001b[0m obj, end \u001b[39m=\u001b[39m \u001b[39mself\u001b[39;49m\u001b[39m.\u001b[39;49mraw_decode(s, idx\u001b[39m=\u001b[39;49m_w(s, \u001b[39m0\u001b[39;49m)\u001b[39m.\u001b[39;49mend())\n\u001b[0;32m    338\u001b[0m end \u001b[39m=\u001b[39m _w(s, end)\u001b[39m.\u001b[39mend()\n",
      "File \u001b[1;32mc:\\Users\\Guilherme\\AppData\\Local\\Programs\\Python\\Python311\\Lib\\json\\decoder.py:355\u001b[0m, in \u001b[0;36mJSONDecoder.raw_decode\u001b[1;34m(self, s, idx)\u001b[0m\n\u001b[0;32m    354\u001b[0m \u001b[39mexcept\u001b[39;00m \u001b[39mStopIteration\u001b[39;00m \u001b[39mas\u001b[39;00m err:\n\u001b[1;32m--> 355\u001b[0m     \u001b[39mraise\u001b[39;00m JSONDecodeError(\u001b[39m\"\u001b[39m\u001b[39mExpecting value\u001b[39m\u001b[39m\"\u001b[39m, s, err\u001b[39m.\u001b[39mvalue) \u001b[39mfrom\u001b[39;00m \u001b[39mNone\u001b[39m\n\u001b[0;32m    356\u001b[0m \u001b[39mreturn\u001b[39;00m obj, end\n",
      "\u001b[1;31mJSONDecodeError\u001b[0m: Expecting value: line 1 column 1 (char 0)",
      "\nDuring handling of the above exception, another exception occurred:\n",
      "\u001b[1;31mJSONDecodeError\u001b[0m                           Traceback (most recent call last)",
      "Cell \u001b[1;32mIn[5], line 13\u001b[0m\n\u001b[0;32m     10\u001b[0m \u001b[39m# Imprime a resposta\u001b[39;00m\n\u001b[0;32m     12\u001b[0m \u001b[39mprint\u001b[39m(response)\n\u001b[1;32m---> 13\u001b[0m data \u001b[39m=\u001b[39m response\u001b[39m.\u001b[39;49mjson()\n\u001b[0;32m     14\u001b[0m \u001b[39mprint\u001b[39m(data)\n",
      "File \u001b[1;32mc:\\Users\\Guilherme\\AppData\\Local\\Programs\\Python\\Python311\\Lib\\site-packages\\requests\\models.py:975\u001b[0m, in \u001b[0;36mResponse.json\u001b[1;34m(self, **kwargs)\u001b[0m\n\u001b[0;32m    971\u001b[0m     \u001b[39mreturn\u001b[39;00m complexjson\u001b[39m.\u001b[39mloads(\u001b[39mself\u001b[39m\u001b[39m.\u001b[39mtext, \u001b[39m*\u001b[39m\u001b[39m*\u001b[39mkwargs)\n\u001b[0;32m    972\u001b[0m \u001b[39mexcept\u001b[39;00m JSONDecodeError \u001b[39mas\u001b[39;00m e:\n\u001b[0;32m    973\u001b[0m     \u001b[39m# Catch JSON-related errors and raise as requests.JSONDecodeError\u001b[39;00m\n\u001b[0;32m    974\u001b[0m     \u001b[39m# This aliases json.JSONDecodeError and simplejson.JSONDecodeError\u001b[39;00m\n\u001b[1;32m--> 975\u001b[0m     \u001b[39mraise\u001b[39;00m RequestsJSONDecodeError(e\u001b[39m.\u001b[39mmsg, e\u001b[39m.\u001b[39mdoc, e\u001b[39m.\u001b[39mpos)\n",
      "\u001b[1;31mJSONDecodeError\u001b[0m: Expecting value: line 1 column 1 (char 0)"
     ]
    }
   ],
   "source": [
    "# Substitua API_KEY pelo sua chave de API do Weatherbit\n",
    "url = \"https://api.weatherbit.io/v2.0/history/daily?city=Rio%20Grande,BR&start_date=2020-01-01&end_date=2020-12-31&key={chave_api}\"\n",
    "url2 =\"https://api.weatherbit.io/v2.0/history/daily?city=Rio de janeiro&start_date=2019-01-01&end_date=2019-01-02&key={chave_api}\"\n",
    "# Faz a solicitação à API do Weatherbit\n",
    "response = requests.get(url2)\n",
    "\n",
    "# Imprime a resposta\n",
    "\n",
    "print(response)\n",
    "data = response.json()\n",
    "print(data)"
   ]
  },
  {
   "cell_type": "code",
   "execution_count": 2,
   "metadata": {},
   "outputs": [
    {
     "data": {
      "text/html": [
       "<div>\n",
       "<style scoped>\n",
       "    .dataframe tbody tr th:only-of-type {\n",
       "        vertical-align: middle;\n",
       "    }\n",
       "\n",
       "    .dataframe tbody tr th {\n",
       "        vertical-align: top;\n",
       "    }\n",
       "\n",
       "    .dataframe thead th {\n",
       "        text-align: right;\n",
       "    }\n",
       "</style>\n",
       "<table border=\"1\" class=\"dataframe\">\n",
       "  <thead>\n",
       "    <tr style=\"text-align: right;\">\n",
       "      <th></th>\n",
       "      <th>clouds</th>\n",
       "      <th>datetime</th>\n",
       "      <th>dewpt</th>\n",
       "      <th>dhi</th>\n",
       "      <th>dni</th>\n",
       "      <th>ghi</th>\n",
       "      <th>max_dhi</th>\n",
       "      <th>max_dni</th>\n",
       "      <th>max_ghi</th>\n",
       "      <th>max_temp</th>\n",
       "      <th>...</th>\n",
       "      <th>solar_rad</th>\n",
       "      <th>t_dhi</th>\n",
       "      <th>t_dni</th>\n",
       "      <th>t_ghi</th>\n",
       "      <th>t_solar_rad</th>\n",
       "      <th>temp</th>\n",
       "      <th>ts</th>\n",
       "      <th>wind_dir</th>\n",
       "      <th>wind_gust_spd</th>\n",
       "      <th>wind_spd</th>\n",
       "    </tr>\n",
       "  </thead>\n",
       "  <tbody>\n",
       "    <tr>\n",
       "      <th>0</th>\n",
       "      <td>80</td>\n",
       "      <td>2022-01-01</td>\n",
       "      <td>18.2</td>\n",
       "      <td>56.3</td>\n",
       "      <td>454.6</td>\n",
       "      <td>375.1</td>\n",
       "      <td>132.4</td>\n",
       "      <td>1004.1</td>\n",
       "      <td>1126.4</td>\n",
       "      <td>25.0</td>\n",
       "      <td>...</td>\n",
       "      <td>216.1</td>\n",
       "      <td>1350.6</td>\n",
       "      <td>10909.2</td>\n",
       "      <td>9003.4</td>\n",
       "      <td>5185.5</td>\n",
       "      <td>21.4</td>\n",
       "      <td>1641006000</td>\n",
       "      <td>228</td>\n",
       "      <td>5.8</td>\n",
       "      <td>1.8</td>\n",
       "    </tr>\n",
       "    <tr>\n",
       "      <th>1</th>\n",
       "      <td>62</td>\n",
       "      <td>2022-01-02</td>\n",
       "      <td>19.0</td>\n",
       "      <td>56.3</td>\n",
       "      <td>454.3</td>\n",
       "      <td>375.0</td>\n",
       "      <td>132.4</td>\n",
       "      <td>1004.1</td>\n",
       "      <td>1126.3</td>\n",
       "      <td>27.0</td>\n",
       "      <td>...</td>\n",
       "      <td>286.7</td>\n",
       "      <td>1350.1</td>\n",
       "      <td>10904.2</td>\n",
       "      <td>8999.6</td>\n",
       "      <td>6880.8</td>\n",
       "      <td>23.0</td>\n",
       "      <td>1641092400</td>\n",
       "      <td>145</td>\n",
       "      <td>7.2</td>\n",
       "      <td>2.1</td>\n",
       "    </tr>\n",
       "    <tr>\n",
       "      <th>2</th>\n",
       "      <td>72</td>\n",
       "      <td>2022-01-03</td>\n",
       "      <td>19.8</td>\n",
       "      <td>56.2</td>\n",
       "      <td>454.1</td>\n",
       "      <td>374.8</td>\n",
       "      <td>132.4</td>\n",
       "      <td>1004.1</td>\n",
       "      <td>1126.2</td>\n",
       "      <td>28.0</td>\n",
       "      <td>...</td>\n",
       "      <td>178.2</td>\n",
       "      <td>1349.5</td>\n",
       "      <td>10898.7</td>\n",
       "      <td>8995.5</td>\n",
       "      <td>4277.6</td>\n",
       "      <td>23.1</td>\n",
       "      <td>1641178800</td>\n",
       "      <td>119</td>\n",
       "      <td>3.3</td>\n",
       "      <td>1.8</td>\n",
       "    </tr>\n",
       "    <tr>\n",
       "      <th>3</th>\n",
       "      <td>83</td>\n",
       "      <td>2022-01-04</td>\n",
       "      <td>20.1</td>\n",
       "      <td>56.2</td>\n",
       "      <td>453.9</td>\n",
       "      <td>374.6</td>\n",
       "      <td>132.4</td>\n",
       "      <td>1004.1</td>\n",
       "      <td>1126.0</td>\n",
       "      <td>28.4</td>\n",
       "      <td>...</td>\n",
       "      <td>165.5</td>\n",
       "      <td>1348.8</td>\n",
       "      <td>10892.6</td>\n",
       "      <td>8990.9</td>\n",
       "      <td>3972.6</td>\n",
       "      <td>22.2</td>\n",
       "      <td>1641265200</td>\n",
       "      <td>229</td>\n",
       "      <td>12.0</td>\n",
       "      <td>2.1</td>\n",
       "    </tr>\n",
       "  </tbody>\n",
       "</table>\n",
       "<p>4 rows × 35 columns</p>\n",
       "</div>"
      ],
      "text/plain": [
       "   clouds    datetime  dewpt   dhi    dni    ghi  max_dhi  max_dni  max_ghi  \\\n",
       "0      80  2022-01-01   18.2  56.3  454.6  375.1    132.4   1004.1   1126.4   \n",
       "1      62  2022-01-02   19.0  56.3  454.3  375.0    132.4   1004.1   1126.3   \n",
       "2      72  2022-01-03   19.8  56.2  454.1  374.8    132.4   1004.1   1126.2   \n",
       "3      83  2022-01-04   20.1  56.2  453.9  374.6    132.4   1004.1   1126.0   \n",
       "\n",
       "   max_temp  ...  solar_rad   t_dhi    t_dni   t_ghi  t_solar_rad  temp  \\\n",
       "0      25.0  ...      216.1  1350.6  10909.2  9003.4       5185.5  21.4   \n",
       "1      27.0  ...      286.7  1350.1  10904.2  8999.6       6880.8  23.0   \n",
       "2      28.0  ...      178.2  1349.5  10898.7  8995.5       4277.6  23.1   \n",
       "3      28.4  ...      165.5  1348.8  10892.6  8990.9       3972.6  22.2   \n",
       "\n",
       "           ts  wind_dir  wind_gust_spd  wind_spd  \n",
       "0  1641006000       228            5.8       1.8  \n",
       "1  1641092400       145            7.2       2.1  \n",
       "2  1641178800       119            3.3       1.8  \n",
       "3  1641265200       229           12.0       2.1  \n",
       "\n",
       "[4 rows x 35 columns]"
      ]
     },
     "execution_count": 2,
     "metadata": {},
     "output_type": "execute_result"
    }
   ],
   "source": [
    "df.head(1)"
   ]
  },
  {
   "cell_type": "code",
   "execution_count": 10,
   "metadata": {},
   "outputs": [],
   "source": [
    "df['datetime'] = pd.to_datetime(df['datetime'])"
   ]
  },
  {
   "cell_type": "code",
   "execution_count": 15,
   "metadata": {},
   "outputs": [],
   "source": [
    "df['year'] = df['datetime'].dt.year\n",
    "df['month'] = df['datetime'].dt.month"
   ]
  },
  {
   "cell_type": "code",
   "execution_count": 16,
   "metadata": {},
   "outputs": [
    {
     "name": "stdout",
     "output_type": "stream",
     "text": [
      "<class 'pandas.core.frame.DataFrame'>\n",
      "RangeIndex: 4 entries, 0 to 3\n",
      "Data columns (total 37 columns):\n",
      " #   Column           Non-Null Count  Dtype         \n",
      "---  ------           --------------  -----         \n",
      " 0   clouds           4 non-null      int64         \n",
      " 1   datetime         4 non-null      datetime64[ns]\n",
      " 2   dewpt            4 non-null      float64       \n",
      " 3   dhi              4 non-null      float64       \n",
      " 4   dni              4 non-null      float64       \n",
      " 5   ghi              4 non-null      float64       \n",
      " 6   max_dhi          4 non-null      float64       \n",
      " 7   max_dni          4 non-null      float64       \n",
      " 8   max_ghi          4 non-null      float64       \n",
      " 9   max_temp         4 non-null      float64       \n",
      " 10  max_temp_ts      4 non-null      int64         \n",
      " 11  max_uv           4 non-null      float64       \n",
      " 12  max_wind_dir     4 non-null      int64         \n",
      " 13  max_wind_spd     4 non-null      float64       \n",
      " 14  max_wind_spd_ts  4 non-null      int64         \n",
      " 15  min_temp         4 non-null      float64       \n",
      " 16  min_temp_ts      4 non-null      int64         \n",
      " 17  precip           4 non-null      float64       \n",
      " 18  precip_gpm       4 non-null      float64       \n",
      " 19  pres             4 non-null      float64       \n",
      " 20  revision_status  4 non-null      object        \n",
      " 21  rh               4 non-null      float64       \n",
      " 22  slp              4 non-null      float64       \n",
      " 23  snow             4 non-null      int64         \n",
      " 24  snow_depth       0 non-null      object        \n",
      " 25  solar_rad        4 non-null      float64       \n",
      " 26  t_dhi            4 non-null      float64       \n",
      " 27  t_dni            4 non-null      float64       \n",
      " 28  t_ghi            4 non-null      float64       \n",
      " 29  t_solar_rad      4 non-null      float64       \n",
      " 30  temp             4 non-null      float64       \n",
      " 31  ts               4 non-null      int64         \n",
      " 32  wind_dir         4 non-null      int64         \n",
      " 33  wind_gust_spd    4 non-null      float64       \n",
      " 34  wind_spd         4 non-null      float64       \n",
      " 35  year             4 non-null      int64         \n",
      " 36  month            4 non-null      int64         \n",
      "dtypes: datetime64[ns](1), float64(24), int64(10), object(2)\n",
      "memory usage: 1.3+ KB\n"
     ]
    }
   ],
   "source": [
    "df.info()"
   ]
  }
 ],
 "metadata": {
  "kernelspec": {
   "display_name": "Python 3",
   "language": "python",
   "name": "python3"
  },
  "language_info": {
   "codemirror_mode": {
    "name": "ipython",
    "version": 3
   },
   "file_extension": ".py",
   "mimetype": "text/x-python",
   "name": "python",
   "nbconvert_exporter": "python",
   "pygments_lexer": "ipython3",
   "version": "3.11.1"
  },
  "orig_nbformat": 4,
  "vscode": {
   "interpreter": {
    "hash": "81afcc7207373ec109ee112b57f6cf4dae598048329d0e3a26f6852d1153459b"
   }
  }
 },
 "nbformat": 4,
 "nbformat_minor": 2
}
